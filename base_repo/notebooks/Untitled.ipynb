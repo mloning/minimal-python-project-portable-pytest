{
 "cells": [
  {
   "cell_type": "code",
   "execution_count": 2,
   "id": "127e805a-cef1-4c79-9125-3887da28dea1",
   "metadata": {},
   "outputs": [],
   "source": [
    "from base_package.registry import all_estimators"
   ]
  },
  {
   "cell_type": "code",
   "execution_count": 3,
   "id": "0051db75-e2e7-461b-91a2-5facef445485",
   "metadata": {},
   "outputs": [
    {
     "data": {
      "text/plain": [
       "[('MyClassifier', base_package.classification.estimators.MyClassifier),\n",
       " ('MyForecaster', base_package.forecasting.estimators.MyForecaster)]"
      ]
     },
     "execution_count": 3,
     "metadata": {},
     "output_type": "execute_result"
    }
   ],
   "source": [
    "all_estimators()"
   ]
  },
  {
   "cell_type": "code",
   "execution_count": null,
   "id": "c56ff8db-b2f4-4a42-85f5-bc4a9400bef9",
   "metadata": {},
   "outputs": [],
   "source": []
  },
  {
   "cell_type": "code",
   "execution_count": 4,
   "id": "9a858df0-529a-4e7c-991d-4affe1ae69c6",
   "metadata": {},
   "outputs": [],
   "source": [
    "from companion_package.registry import all_estimators"
   ]
  },
  {
   "cell_type": "code",
   "execution_count": 5,
   "id": "f5c40b3c-62de-4251-95c6-c6eb6e325280",
   "metadata": {},
   "outputs": [
    {
     "data": {
      "text/plain": [
       "[('MyCustomClassifier',\n",
       "  companion_package.classification.estimators.MyCustomClassifier),\n",
       " ('MyCustomForecaster',\n",
       "  companion_package.forecasting.estimators.MyCustomForecaster)]"
      ]
     },
     "execution_count": 5,
     "metadata": {},
     "output_type": "execute_result"
    }
   ],
   "source": [
    "all_estimators()"
   ]
  },
  {
   "cell_type": "code",
   "execution_count": null,
   "id": "5c64349b-d514-4b1e-99c7-59c90def34f0",
   "metadata": {},
   "outputs": [],
   "source": []
  },
  {
   "cell_type": "code",
   "execution_count": null,
   "id": "3f4773e5-f399-4d08-a6a6-76622e8126d9",
   "metadata": {},
   "outputs": [],
   "source": []
  },
  {
   "cell_type": "code",
   "execution_count": null,
   "id": "fd64d12a-813d-40b6-b83d-9ccd01628acf",
   "metadata": {},
   "outputs": [],
   "source": []
  }
 ],
 "metadata": {
  "kernelspec": {
   "display_name": "Python 3 (ipykernel)",
   "language": "python",
   "name": "python3"
  },
  "language_info": {
   "codemirror_mode": {
    "name": "ipython",
    "version": 3
   },
   "file_extension": ".py",
   "mimetype": "text/x-python",
   "name": "python",
   "nbconvert_exporter": "python",
   "pygments_lexer": "ipython3",
   "version": "3.8.12"
  }
 },
 "nbformat": 4,
 "nbformat_minor": 5
}
